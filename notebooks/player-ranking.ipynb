{
 "cells": [
  {
   "cell_type": "code",
   "execution_count": 2,
   "metadata": {},
   "outputs": [],
   "source": [
    "import numpy as np\n",
    "import pandas as pd\n",
    "import matplotlib.pyplot as plt\n",
    "from sklearn import preprocessing"
   ]
  },
  {
   "cell_type": "code",
   "execution_count": 3,
   "metadata": {},
   "outputs": [],
   "source": [
    "%matplotlib inline"
   ]
  },
  {
   "cell_type": "code",
   "execution_count": 4,
   "metadata": {},
   "outputs": [],
   "source": [
    "pd.options.display.width = 120; pd.options.display.max_colwidth = 80; pd.options.display.max_columns = 50;"
   ]
  },
  {
   "cell_type": "code",
   "execution_count": 5,
   "metadata": {},
   "outputs": [],
   "source": [
    "df = pd.read_csv('../data/leaderboard-pages-features.csv')"
   ]
  },
  {
   "cell_type": "code",
   "execution_count": 6,
   "metadata": {},
   "outputs": [
    {
     "data": {
      "text/html": [
       "<div>\n",
       "<style>\n",
       "    .dataframe thead tr:only-child th {\n",
       "        text-align: right;\n",
       "    }\n",
       "\n",
       "    .dataframe thead th {\n",
       "        text-align: left;\n",
       "    }\n",
       "\n",
       "    .dataframe tbody tr th {\n",
       "        vertical-align: top;\n",
       "    }\n",
       "</style>\n",
       "<table border=\"1\" class=\"dataframe\">\n",
       "  <thead>\n",
       "    <tr style=\"text-align: right;\">\n",
       "      <th></th>\n",
       "      <th>0</th>\n",
       "    </tr>\n",
       "  </thead>\n",
       "  <tbody>\n",
       "    <tr>\n",
       "      <th>indexed_at</th>\n",
       "      <td>2017-05-06 04:18:51.105</td>\n",
       "    </tr>\n",
       "    <tr>\n",
       "      <th>platform</th>\n",
       "      <td>ps4</td>\n",
       "    </tr>\n",
       "    <tr>\n",
       "      <th>stats.casual.deaths</th>\n",
       "      <td>2880</td>\n",
       "    </tr>\n",
       "    <tr>\n",
       "      <th>stats.casual.has_played</th>\n",
       "      <td>True</td>\n",
       "    </tr>\n",
       "    <tr>\n",
       "      <th>stats.casual.kd</th>\n",
       "      <td>1.087</td>\n",
       "    </tr>\n",
       "    <tr>\n",
       "      <th>stats.casual.kills</th>\n",
       "      <td>3131</td>\n",
       "    </tr>\n",
       "    <tr>\n",
       "      <th>stats.casual.losses</th>\n",
       "      <td>321</td>\n",
       "    </tr>\n",
       "    <tr>\n",
       "      <th>stats.casual.playtime</th>\n",
       "      <td>809557</td>\n",
       "    </tr>\n",
       "    <tr>\n",
       "      <th>stats.casual.wins</th>\n",
       "      <td>610</td>\n",
       "    </tr>\n",
       "    <tr>\n",
       "      <th>stats.casual.wlr</th>\n",
       "      <td>1.9</td>\n",
       "    </tr>\n",
       "    <tr>\n",
       "      <th>stats.normalized.accuracy</th>\n",
       "      <td>0.252235</td>\n",
       "    </tr>\n",
       "    <tr>\n",
       "      <th>stats.normalized.aggression</th>\n",
       "      <td>0.668391</td>\n",
       "    </tr>\n",
       "    <tr>\n",
       "      <th>stats.normalized.deaths.perhour</th>\n",
       "      <td>12.8227</td>\n",
       "    </tr>\n",
       "    <tr>\n",
       "      <th>stats.normalized.defensive_actions.perhour</th>\n",
       "      <td>20.0697</td>\n",
       "    </tr>\n",
       "    <tr>\n",
       "      <th>stats.normalized.kd</th>\n",
       "      <td>1.08894</td>\n",
       "    </tr>\n",
       "    <tr>\n",
       "      <th>stats.normalized.kills.perhour</th>\n",
       "      <td>13.9633</td>\n",
       "    </tr>\n",
       "    <tr>\n",
       "      <th>stats.normalized.losses.perhour</th>\n",
       "      <td>1.44543</td>\n",
       "    </tr>\n",
       "    <tr>\n",
       "      <th>stats.normalized.mobility</th>\n",
       "      <td>0.000700512</td>\n",
       "    </tr>\n",
       "    <tr>\n",
       "      <th>stats.normalized.points.perbullet_fired</th>\n",
       "      <td>0.0349374</td>\n",
       "    </tr>\n",
       "    <tr>\n",
       "      <th>stats.normalized.points.perhour</th>\n",
       "      <td>17.9035</td>\n",
       "    </tr>\n",
       "    <tr>\n",
       "      <th>stats.normalized.wins.perhour</th>\n",
       "      <td>2.59385</td>\n",
       "    </tr>\n",
       "    <tr>\n",
       "      <th>stats.normalized.wlr</th>\n",
       "      <td>1.79452</td>\n",
       "    </tr>\n",
       "    <tr>\n",
       "      <th>stats.overall.assists</th>\n",
       "      <td>995</td>\n",
       "    </tr>\n",
       "    <tr>\n",
       "      <th>stats.overall.barricades_built</th>\n",
       "      <td>795</td>\n",
       "    </tr>\n",
       "    <tr>\n",
       "      <th>stats.overall.bullets_fired</th>\n",
       "      <td>129403</td>\n",
       "    </tr>\n",
       "    <tr>\n",
       "      <th>stats.overall.bullets_hit</th>\n",
       "      <td>32640</td>\n",
       "    </tr>\n",
       "    <tr>\n",
       "      <th>stats.overall.deaths</th>\n",
       "      <td>3238</td>\n",
       "    </tr>\n",
       "    <tr>\n",
       "      <th>stats.overall.defensive_actions</th>\n",
       "      <td>5068</td>\n",
       "    </tr>\n",
       "    <tr>\n",
       "      <th>stats.overall.engagements</th>\n",
       "      <td>6764</td>\n",
       "    </tr>\n",
       "    <tr>\n",
       "      <th>stats.overall.headshots</th>\n",
       "      <td>1162</td>\n",
       "    </tr>\n",
       "    <tr>\n",
       "      <th>stats.overall.kills</th>\n",
       "      <td>3526</td>\n",
       "    </tr>\n",
       "    <tr>\n",
       "      <th>stats.overall.losses</th>\n",
       "      <td>365</td>\n",
       "    </tr>\n",
       "    <tr>\n",
       "      <th>stats.overall.melee_kills</th>\n",
       "      <td>51</td>\n",
       "    </tr>\n",
       "    <tr>\n",
       "      <th>stats.overall.penetration_kills</th>\n",
       "      <td>295</td>\n",
       "    </tr>\n",
       "    <tr>\n",
       "      <th>stats.overall.playtime.hours</th>\n",
       "      <td>252.52</td>\n",
       "    </tr>\n",
       "    <tr>\n",
       "      <th>stats.overall.playtime.hours.scaled</th>\n",
       "      <td>0.128328</td>\n",
       "    </tr>\n",
       "    <tr>\n",
       "      <th>stats.overall.points</th>\n",
       "      <td>4521</td>\n",
       "    </tr>\n",
       "    <tr>\n",
       "      <th>stats.overall.reinforcements_deployed</th>\n",
       "      <td>4071</td>\n",
       "    </tr>\n",
       "    <tr>\n",
       "      <th>stats.overall.revives</th>\n",
       "      <td>202</td>\n",
       "    </tr>\n",
       "    <tr>\n",
       "      <th>stats.overall.steps_moved</th>\n",
       "      <td>2438282313</td>\n",
       "    </tr>\n",
       "    <tr>\n",
       "      <th>stats.overall.suicides</th>\n",
       "      <td>26</td>\n",
       "    </tr>\n",
       "    <tr>\n",
       "      <th>stats.overall.wins</th>\n",
       "      <td>655</td>\n",
       "    </tr>\n",
       "    <tr>\n",
       "      <th>stats.progression.level</th>\n",
       "      <td>131</td>\n",
       "    </tr>\n",
       "    <tr>\n",
       "      <th>stats.progression.level.scaled</th>\n",
       "      <td>0.590948</td>\n",
       "    </tr>\n",
       "    <tr>\n",
       "      <th>stats.progression.xp</th>\n",
       "      <td>48480</td>\n",
       "    </tr>\n",
       "    <tr>\n",
       "      <th>stats.progression.xp.scaled</th>\n",
       "      <td>1.44999</td>\n",
       "    </tr>\n",
       "    <tr>\n",
       "      <th>stats.ranked.deaths</th>\n",
       "      <td>358</td>\n",
       "    </tr>\n",
       "    <tr>\n",
       "      <th>stats.ranked.has_played</th>\n",
       "      <td>True</td>\n",
       "    </tr>\n",
       "    <tr>\n",
       "      <th>stats.ranked.kd</th>\n",
       "      <td>1.103</td>\n",
       "    </tr>\n",
       "    <tr>\n",
       "      <th>stats.ranked.kills</th>\n",
       "      <td>395</td>\n",
       "    </tr>\n",
       "    <tr>\n",
       "      <th>stats.ranked.losses</th>\n",
       "      <td>44</td>\n",
       "    </tr>\n",
       "    <tr>\n",
       "      <th>stats.ranked.playtime</th>\n",
       "      <td>99515</td>\n",
       "    </tr>\n",
       "    <tr>\n",
       "      <th>stats.ranked.wins</th>\n",
       "      <td>45</td>\n",
       "    </tr>\n",
       "    <tr>\n",
       "      <th>stats.ranked.wlr</th>\n",
       "      <td>1.023</td>\n",
       "    </tr>\n",
       "    <tr>\n",
       "      <th>ubisoft_id</th>\n",
       "      <td>dd8692d5-1d9d-4b0e-89e5-03a62643a4aa</td>\n",
       "    </tr>\n",
       "    <tr>\n",
       "      <th>updated_at</th>\n",
       "      <td>2017-05-06 04:18:51.105</td>\n",
       "    </tr>\n",
       "    <tr>\n",
       "      <th>username</th>\n",
       "      <td>NeelPatel517</td>\n",
       "    </tr>\n",
       "  </tbody>\n",
       "</table>\n",
       "</div>"
      ],
      "text/plain": [
       "                                                                               0\n",
       "indexed_at                                               2017-05-06 04:18:51.105\n",
       "platform                                                                     ps4\n",
       "stats.casual.deaths                                                         2880\n",
       "stats.casual.has_played                                                     True\n",
       "stats.casual.kd                                                            1.087\n",
       "stats.casual.kills                                                          3131\n",
       "stats.casual.losses                                                          321\n",
       "stats.casual.playtime                                                     809557\n",
       "stats.casual.wins                                                            610\n",
       "stats.casual.wlr                                                             1.9\n",
       "stats.normalized.accuracy                                               0.252235\n",
       "stats.normalized.aggression                                             0.668391\n",
       "stats.normalized.deaths.perhour                                          12.8227\n",
       "stats.normalized.defensive_actions.perhour                               20.0697\n",
       "stats.normalized.kd                                                      1.08894\n",
       "stats.normalized.kills.perhour                                           13.9633\n",
       "stats.normalized.losses.perhour                                          1.44543\n",
       "stats.normalized.mobility                                            0.000700512\n",
       "stats.normalized.points.perbullet_fired                                0.0349374\n",
       "stats.normalized.points.perhour                                          17.9035\n",
       "stats.normalized.wins.perhour                                            2.59385\n",
       "stats.normalized.wlr                                                     1.79452\n",
       "stats.overall.assists                                                        995\n",
       "stats.overall.barricades_built                                               795\n",
       "stats.overall.bullets_fired                                               129403\n",
       "stats.overall.bullets_hit                                                  32640\n",
       "stats.overall.deaths                                                        3238\n",
       "stats.overall.defensive_actions                                             5068\n",
       "stats.overall.engagements                                                   6764\n",
       "stats.overall.headshots                                                     1162\n",
       "stats.overall.kills                                                         3526\n",
       "stats.overall.losses                                                         365\n",
       "stats.overall.melee_kills                                                     51\n",
       "stats.overall.penetration_kills                                              295\n",
       "stats.overall.playtime.hours                                              252.52\n",
       "stats.overall.playtime.hours.scaled                                     0.128328\n",
       "stats.overall.points                                                        4521\n",
       "stats.overall.reinforcements_deployed                                       4071\n",
       "stats.overall.revives                                                        202\n",
       "stats.overall.steps_moved                                             2438282313\n",
       "stats.overall.suicides                                                        26\n",
       "stats.overall.wins                                                           655\n",
       "stats.progression.level                                                      131\n",
       "stats.progression.level.scaled                                          0.590948\n",
       "stats.progression.xp                                                       48480\n",
       "stats.progression.xp.scaled                                              1.44999\n",
       "stats.ranked.deaths                                                          358\n",
       "stats.ranked.has_played                                                     True\n",
       "stats.ranked.kd                                                            1.103\n",
       "stats.ranked.kills                                                           395\n",
       "stats.ranked.losses                                                           44\n",
       "stats.ranked.playtime                                                      99515\n",
       "stats.ranked.wins                                                             45\n",
       "stats.ranked.wlr                                                           1.023\n",
       "ubisoft_id                                  dd8692d5-1d9d-4b0e-89e5-03a62643a4aa\n",
       "updated_at                                               2017-05-06 04:18:51.105\n",
       "username                                                            NeelPatel517"
      ]
     },
     "execution_count": 6,
     "metadata": {},
     "output_type": "execute_result"
    }
   ],
   "source": [
    "df.head(1).T"
   ]
  },
  {
   "cell_type": "code",
   "execution_count": 7,
   "metadata": {},
   "outputs": [
    {
     "data": {
      "text/plain": [
       "(263020, 57)"
      ]
     },
     "execution_count": 7,
     "metadata": {},
     "output_type": "execute_result"
    }
   ],
   "source": [
    "df.shape"
   ]
  },
  {
   "cell_type": "code",
   "execution_count": 8,
   "metadata": {},
   "outputs": [
    {
     "data": {
      "image/png": "[encoded data removed]",
      "text/plain": [
       "<matplotlib.figure.Figure at 0x115976400>"
      ]
     },
     "metadata": {},
     "output_type": "display_data"
    }
   ],
   "source": [
    "df['stats.overall.playtime.hours'].hist(bins=100)\n",
    "plt.show()"
   ]
  },
  {
   "cell_type": "code",
   "execution_count": 9,
   "metadata": {},
   "outputs": [
    {
     "data": {
      "image/png": "[encoded data removed]",
      "text/plain": [
       "<matplotlib.figure.Figure at 0x110556a90>"
      ]
     },
     "metadata": {},
     "output_type": "display_data"
    }
   ],
   "source": [
    "df['stats.overall.playtime.hours.scaled'].hist(bins=100)\n",
    "plt.show()"
   ]
  },
  {
   "cell_type": "code",
   "execution_count": 10,
   "metadata": {},
   "outputs": [
    {
     "data": {
      "image/png": "[encoded data removed]",
      "text/plain": [
       "<matplotlib.figure.Figure at 0x110848eb8>"
      ]
     },
     "metadata": {},
     "output_type": "display_data"
    }
   ],
   "source": [
    "df['stats.progression.level'].hist(bins=75)\n",
    "plt.show()"
   ]
  },
  {
   "cell_type": "code",
   "execution_count": 11,
   "metadata": {},
   "outputs": [
    {
     "data": {
      "image/png": "[encoded data removed]",
      "text/plain": [
       "<matplotlib.figure.Figure at 0x11055a0b8>"
      ]
     },
     "metadata": {},
     "output_type": "display_data"
    }
   ],
   "source": [
    "df['stats.progression.level.scaled'].hist(bins=75)\n",
    "plt.show()"
   ]
  },
  {
   "cell_type": "code",
   "execution_count": 33,
   "metadata": {},
   "outputs": [],
   "source": []
  },
  {
   "cell_type": "code",
   "execution_count": 12,
   "metadata": {},
   "outputs": [],
   "source": [
    "def calc_skill_for_player(player):\n",
    "    score = 0\n",
    "    return score"
   ]
  },
  {
   "cell_type": "code",
   "execution_count": 13,
   "metadata": {},
   "outputs": [],
   "source": [
    "def calc_skill_for_team(players):\n",
    "    scores = []\n",
    "    return sum(scores)"
   ]
  },
  {
   "cell_type": "code",
   "execution_count": 68,
   "metadata": {},
   "outputs": [
    {
     "data": {
      "text/plain": [
       "0.24690350121423071"
      ]
     },
     "execution_count": 68,
     "metadata": {},
     "output_type": "execute_result"
    }
   ],
   "source": [
    "# df['stats.progression.level'].mean() # => 112.60950878260208\n",
    "# df['stats.progression.level.scaled'].mean() # => 0.24690350121423071"
   ]
  },
  {
   "cell_type": "code",
   "execution_count": null,
   "metadata": {},
   "outputs": [],
   "source": []
  }
 ],
 "metadata": {
  "kernelspec": {
   "display_name": "Python 3",
   "language": "python",
   "name": "python3"
  },
  "language_info": {
   "codemirror_mode": {
    "name": "ipython",
    "version": 3
   },
   "file_extension": ".py",
   "mimetype": "text/x-python",
   "name": "python",
   "nbconvert_exporter": "python",
   "pygments_lexer": "ipython3",
   "version": "3.6.0"
  }
 },
 "nbformat": 4,
 "nbformat_minor": 2
}
